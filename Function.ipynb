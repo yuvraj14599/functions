{
  "nbformat": 4,
  "nbformat_minor": 0,
  "metadata": {
    "colab": {
      "provenance": []
    },
    "kernelspec": {
      "name": "python3",
      "display_name": "Python 3"
    },
    "language_info": {
      "name": "python"
    }
  },
  "cells": [
    {
      "cell_type": "markdown",
      "source": [],
      "metadata": {
        "id": "e8QxjmwXeWm1"
      }
    },
    {
      "cell_type": "markdown",
      "source": [
        "Function\n"
      ],
      "metadata": {
        "id": "l6Dw1M0LeP9i"
      }
    },
    {
      "cell_type": "markdown",
      "source": [
        "what is the  HTML 5 and what is the  diference between mongodb and css cast cading style sheet\n",
        "\n",
        "  -> Hyper Text Markup Language is the pre defined\n",
        "\n",
        "2 what is the  javascipt\n",
        "  ->"
      ],
      "metadata": {
        "id": "UsMHk_-VedsS"
      }
    },
    {
      "cell_type": "code",
      "execution_count": null,
      "metadata": {
        "id": "JCibyJu2d_Sy"
      },
      "outputs": [],
      "source": []
    }
  ]
}